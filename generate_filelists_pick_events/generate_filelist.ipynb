{
 "cells": [
  {
   "cell_type": "code",
   "execution_count": 1,
   "metadata": {},
   "outputs": [],
   "source": [
    "import os\n",
    "import re"
   ]
  },
  {
   "cell_type": "code",
   "execution_count": 5,
   "metadata": {},
   "outputs": [
    {
     "data": {
      "text/plain": [
       "['../jobs/NanoAODTaskMuMu2022postEEWOInitialRecoCorrection__1__False_bf2e810e7c/Output_0To1.txt']"
      ]
     },
     "execution_count": 5,
     "metadata": {},
     "output_type": "execute_result"
    }
   ],
   "source": [
    "\n",
    "# files_paths = [\"jobs/tmpy8e5u0cu\", \"jobs/tmpjcyq8dhv\", \"jobs/tmp2r9_pyix\"]\n",
    "files_paths = [\"../jobs/NanoAODTaskMuMu2022postEEWOInitialRecoCorrection__1__False_bf2e810e7c\"]\n",
    "# glob Output files\n",
    "files = []\n",
    "for files_path in files_paths:\n",
    "    files += [os.path.join(files_path, f) for f in os.listdir(files_path) if f.startswith(\"Output\")]\n",
    "files = sorted(files)\n",
    "files"
   ]
  },
  {
   "cell_type": "code",
   "execution_count": 6,
   "metadata": {},
   "outputs": [],
   "source": [
    "# find line in outputfiles that contains \"Begin processing the *th record\" and safe the number of the record\n",
    "\n",
    "record_numbers = []\n",
    "# regex \n",
    "record_regex = re.compile(r\"Begin processing the (\\d+)th record\")\n",
    "file_regex = re.compile(r\"Output_(\\d+)To.*\")\n",
    "for file in files:\n",
    "    with open(file, \"r\") as f:\n",
    "        # get last line containing \"Begin processing the *th record\"\n",
    "        lines = f.readlines()\n",
    "        for line in lines[::-1]:\n",
    "            match = record_regex.search(line)\n",
    "            if match:\n",
    "                # get filenumer from file_regex\n",
    "                file_match = file_regex.search(file)\n",
    "\n",
    "                remote_file = \"root://cmsdcache-kit-disk.gridka.de:1094//store/user/cwinter/run3_embedding/2022postEE/MuMu/nanoaod/{}_nanoaod.root\".format(file_match.group(1))\n",
    "                record_numbers.append({\"events\": match.group(1), \"log_file\": file, \"file\": remote_file})\n",
    "                break\n",
    "with open(\"filelist.txt\", \"w\") as f:\n",
    "    for record in record_numbers:\n",
    "        f.write(record[\"file\"] + \"=\" + record[\"events\"] + \"\\n\")\n",
    "\n",
    "    "
   ]
  },
  {
   "cell_type": "code",
   "execution_count": 6,
   "metadata": {},
   "outputs": [
    {
     "name": "stdout",
     "output_type": "stream",
     "text": [
      "jobs/tmp6c0n3kb5/Output_0To1.txt\n"
     ]
    }
   ],
   "source": [
    "# get all event run lumi from the logfiles\n",
    "\n",
    "events = []\n",
    "# regex\n",
    "event_regex = re.compile(r\"Begin processing the .+ record. Run (\\d+), Event (\\d+), LumiSection (\\d+) on stream\")\n",
    "\n",
    "for file in files:\n",
    "    print(file)\n",
    "    with open(file, \"r\") as f:\n",
    "        lines = f.readlines()\n",
    "        for line in lines:\n",
    "            match = event_regex.search(line)\n",
    "            if match:\n",
    "                events.append((match.group(1), match.group(3), match.group(2))) # switch order to run, lumisection, event\n",
    "    \n",
    "with open(\"eventlist.txt\", \"w\") as f:\n",
    "    for event in events:\n",
    "        f.write(\":\".join(event) + \"\\n\")"
   ]
  }
 ],
 "metadata": {
  "kernelspec": {
   "display_name": "Python 3",
   "language": "python",
   "name": "python3"
  },
  "language_info": {
   "codemirror_mode": {
    "name": "ipython",
    "version": 3
   },
   "file_extension": ".py",
   "mimetype": "text/x-python",
   "name": "python",
   "nbconvert_exporter": "python",
   "pygments_lexer": "ipython3",
   "version": "3.12.5"
  }
 },
 "nbformat": 4,
 "nbformat_minor": 2
}
